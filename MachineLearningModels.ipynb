{
 "cells": [
  {
   "cell_type": "code",
   "execution_count": 1,
   "metadata": {
    "datalore": {
     "hide_input_from_viewers": false,
     "hide_output_from_viewers": false,
     "node_id": "oOWDAZ8BBTTlEdl8MgvHYD",
     "report_properties": {
      "rowId": "Xno7jKYWnfAZHQrHYAFbzc"
     },
     "type": "CODE"
    }
   },
   "outputs": [
    {
     "data": {
      "text/plain": [
       "'\\nVerschiedene MLM \\nClassifiers:\\n- Trees\\n- Ensemble Learning\\n- Naiver Bayes\\n- SVM\\n- Clustering\\n- Neural Network\\n- KNN\\n'"
      ]
     },
     "execution_count": 1,
     "metadata": {},
     "output_type": "execute_result"
    }
   ],
   "source": [
    "\"\"\"\n",
    "Verschiedene MLM \n",
    "Classifiers:\n",
    "- Trees\n",
    "- Ensemble Learning\n",
    "- Naiver Bayes\n",
    "- SVM\n",
    "- Clustering\n",
    "- Neural Network\n",
    "- KNN\n",
    "\"\"\""
   ]
  },
  {
   "cell_type": "code",
   "execution_count": 2,
   "metadata": {
    "datalore": {
     "hide_input_from_viewers": false,
     "hide_output_from_viewers": false,
     "node_id": "OgIxvKbkrzU8LAF7hlyhhW",
     "report_properties": {
      "rowId": "Xno7jKYWnfAZHQrHYAFbzc"
     },
     "type": "CODE"
    }
   },
   "outputs": [],
   "source": [
    "import pandas as pd\n",
    "import numpy as np\n",
    "import seaborn as sns\n",
    "from sklearn.ensemble import RandomForestClassifier, AdaBoostClassifier\n",
    "from sklearn.svm import SVC\n",
    "from sklearn.model_selection import train_test_split\n",
    "from sklearn.metrics import accuracy_score, mean_squared_error\n",
    "from sklearn.linear_model import LogisticRegression\n",
    "import matplotlib.pyplot as plt\n",
    "import warnings\n",
    "from sklearn.exceptions import ConvergenceWarning\n",
    "warnings.simplefilter(action='ignore', category=FutureWarning)"
   ]
  },
  {
   "cell_type": "code",
   "execution_count": 3,
   "metadata": {
    "datalore": {
     "hide_input_from_viewers": false,
     "hide_output_from_viewers": false,
     "node_id": "YZ2felSySV7lHYUgE7Qg2a",
     "report_properties": {
      "rowId": "Xno7jKYWnfAZHQrHYAFbzc"
     },
     "type": "CODE"
    }
   },
   "outputs": [
    {
     "name": "stdout",
     "output_type": "stream",
     "text": [
      "     gender  height_cm  weight_kg  body fat_%  diastolic  systolic  gripForce  \\\n",
      "age                                                                             \n",
      "27.0      M      172.3      75.24        21.3       80.0     130.0       54.9   \n",
      "25.0      M      165.0      55.80        15.7       77.0     126.0       36.4   \n",
      "31.0      M      179.6      78.00        20.1       92.0     152.0       44.8   \n",
      "32.0      M      174.5      71.10        18.4       76.0     147.0       41.4   \n",
      "28.0      M      173.8      67.70        17.1       70.0     127.0       43.5   \n",
      "\n",
      "      sit and bend forward_cm  sit-ups counts  broad jump_cm class  \n",
      "age                                                                 \n",
      "27.0                     18.4            60.0          217.0     C  \n",
      "25.0                     16.3            53.0          229.0     A  \n",
      "31.0                     12.0            49.0          181.0     C  \n",
      "32.0                     15.2            53.0          219.0     B  \n",
      "28.0                     27.1            45.0          217.0     B  \n"
     ]
    }
   ],
   "source": [
    "url = 'https://raw.githubusercontent.com/Redra1ner/csv4datascience2/main/bodyPerformance.csv'\n",
    "df = pd.read_csv(url, index_col=0)\n",
    "print(df.head(5))"
   ]
  },
  {
   "cell_type": "code",
   "execution_count": 4,
   "metadata": {
    "datalore": {
     "hide_input_from_viewers": false,
     "hide_output_from_viewers": false,
     "node_id": "4AfAvstD8DuQuixP2eY7xF",
     "report_properties": {
      "rowId": "Xno7jKYWnfAZHQrHYAFbzc"
     },
     "type": "CODE"
    }
   },
   "outputs": [
    {
     "name": "stdout",
     "output_type": "stream",
     "text": [
      "<class 'pandas.core.frame.DataFrame'>\n",
      "Index: 13393 entries, 27.0 to 34.0\n",
      "Data columns (total 11 columns):\n",
      " #   Column                   Non-Null Count  Dtype  \n",
      "---  ------                   --------------  -----  \n",
      " 0   gender                   13393 non-null  int64  \n",
      " 1   height_cm                13393 non-null  float64\n",
      " 2   weight_kg                13393 non-null  float64\n",
      " 3   body fat_%               13393 non-null  float64\n",
      " 4   diastolic                13393 non-null  float64\n",
      " 5   systolic                 13393 non-null  float64\n",
      " 6   gripForce                13393 non-null  float64\n",
      " 7   sit and bend forward_cm  13393 non-null  float64\n",
      " 8   sit-ups counts           13393 non-null  float64\n",
      " 9   broad jump_cm            13393 non-null  float64\n",
      " 10  classification           13393 non-null  int64  \n",
      "dtypes: float64(9), int64(2)\n",
      "memory usage: 1.2+ MB\n"
     ]
    }
   ],
   "source": [
    "url = 'https://raw.githubusercontent.com/Redra1ner/csv4datascience2/main/bodyPerformance.csv'\n",
    "df = pd.read_csv(url, index_col=0)\n",
    "np.sort(df['class'].unique())\n",
    "\n",
    "df = df.replace({'gender':{'M':3 , 'F':1},\\\n",
    "                                    'class':{'A':1, 'B':2, 'C':3, 'D':4}})\n",
    "\n",
    "df= df.rename(index=str, columns={\"class\": \"classification\"})\n",
    "\n",
    "testSize=0.2\n",
    "\n",
    "df.info()"
   ]
  },
  {
   "cell_type": "code",
   "execution_count": 5,
   "metadata": {
    "datalore": {
     "hide_input_from_viewers": false,
     "hide_output_from_viewers": false,
     "node_id": "SIpKGLsqSKiQTOWD5WSFn4",
     "report_properties": {
      "rowId": "Xno7jKYWnfAZHQrHYAFbzc"
     },
     "type": "CODE"
    }
   },
   "outputs": [
    {
     "data": {
      "image/png": "[encoded data removed]",
      "text/plain": [
       "<Figure size 640x480 with 2 Axes>"
      ]
     },
     "metadata": {},
     "output_type": "display_data"
    }
   ],
   "source": [
    "import seaborn as sn\n",
    "import matplotlib.pyplot as plt\n",
    "\n",
    "corr_matrix= df.corr()\n",
    "\n",
    "sn.heatmap(corr_matrix, annot=True)\n",
    "plt.show()"
   ]
  },
  {
   "cell_type": "code",
   "execution_count": 6,
   "metadata": {
    "datalore": {
     "hide_input_from_viewers": false,
     "hide_output_from_viewers": false,
     "node_id": "7915SilMk5zSEDS91CrohN",
     "report_properties": {
      "rowId": "Xno7jKYWnfAZHQrHYAFbzc"
     },
     "type": "CODE"
    }
   },
   "outputs": [],
   "source": [
    "def plot_classifier(model, X, Z, proba=False, x_min=None,x_max=None,y_min=None,y_max=None):\n",
    " plt.set_cmap(\"coolwarm\")\n",
    " if x_min is None:\n",
    "  x_min = X[:, 0].min() - 1\n",
    " if x_max is None:\n",
    "  x_max = X[:, 0].max() + 1\n",
    " if y_min is None:\n",
    "  y_min = X[:, 1].min() - 1\n",
    " if y_max is None:\n",
    "  y_max = X[:, 1].max() + 1\n",
    " xx, yy = np.meshgrid(np.linspace(x_min, x_max, 500),np.linspace(y_min, y_max, 500))\n",
    " if proba:\n",
    "    zz = model.predict_proba(np.c_[xx.ravel(), yy.ravel()])[:, 1]\n",
    "    plt.imshow(zz.reshape(xx.shape),\n",
    "    origin = \"lower\",\n",
    "    aspect = \"auto\",\n",
    "    extent = (x_min, x_max, y_min, y_max),\n",
    "    vmin = 0,\n",
    "    vmax = 1,\n",
    "    alpha = 0.4)\n",
    " else:\n",
    "    zz = model.predict(np.c_[xx.ravel(), yy.ravel()])\n",
    "    plt.contourf(xx, yy, zz.reshape(xx.shape),\n",
    "    alpha = 0.4,\n",
    "    vmin = 0,\n",
    "    vmax = 1)\n",
    "    plt.scatter(X[:, 0], X[:, 1], c=Z, alpha=0.8, s=20)"
   ]
  },
  {
   "cell_type": "code",
   "execution_count": 7,
   "metadata": {
    "datalore": {
     "hide_input_from_viewers": false,
     "hide_output_from_viewers": false,
     "node_id": "lk8MCec0vlwaUsjYKm5OOP",
     "report_properties": {
      "rowId": "Xno7jKYWnfAZHQrHYAFbzc"
     },
     "type": "CODE"
    }
   },
   "outputs": [],
   "source": [
    "def run_algo_on_data(X, y, algo_class, algo_name, **params):\n",
    "    train_X, test_X, train_y, test_y = train_test_split(X, y, test_size=0.3, random_state=42)\n",
    "    algo = algo_class(**params)\n",
    "    algo.fit(train_X, train_y)\n",
    "    r2_train = algo.score(train_X, train_y)\n",
    "    y_predicted = algo.predict(test_X)\n",
    "    accuracy = accuracy_score(test_y, y_predicted)\n",
    "    print('r^2 on training data for', algo_name, '{:.2f}'.format(r2_train))\n",
    "    print('Accuracy score for', algo_name, '{:.2f}'.format(accuracy))\n",
    "    print('---'*10)"
   ]
  },
  {
   "cell_type": "code",
   "execution_count": 8,
   "metadata": {
    "datalore": {
     "hide_input_from_viewers": false,
     "hide_output_from_viewers": false,
     "node_id": "tNdJl4pprAyxr8unQJ2SvM",
     "report_properties": {
      "rowId": "Xno7jKYWnfAZHQrHYAFbzc"
     },
     "type": "CODE"
    }
   },
   "outputs": [
    {
     "name": "stdout",
     "output_type": "stream",
     "text": [
      "r^2 on training data for Random Forest Classifier 1.00\n",
      "Accuracy score for Random Forest Classifier 0.65\n",
      "------------------------------\n",
      "r^2 on training data for AdaBoost Classifier 0.58\n",
      "Accuracy score for AdaBoost Classifier 0.57\n",
      "------------------------------\n",
      "r^2 on training data for SVC 0.58\n",
      "Accuracy score for SVC 0.59\n",
      "------------------------------\n"
     ]
    }
   ],
   "source": [
    "X0 = df.iloc[:,:-1]\n",
    "y0 = df['classification']\n",
    "\n",
    "run_algo_on_data(X0, y0, RandomForestClassifier, 'Random Forest Classifier')\n",
    "run_algo_on_data(X0, y0, AdaBoostClassifier, 'AdaBoost Classifier')\n",
    "run_algo_on_data(X0, y0, SVC, 'SVC')"
   ]
  },
  {
   "cell_type": "code",
   "execution_count": 9,
   "metadata": {
    "datalore": {
     "hide_input_from_viewers": false,
     "hide_output_from_viewers": false,
     "node_id": "ZW9hKKsq7NboyjNzDOat10",
     "report_properties": {
      "rowId": "Xno7jKYWnfAZHQrHYAFbzc"
     },
     "type": "CODE"
    }
   },
   "outputs": [
    {
     "name": "stderr",
     "output_type": "stream",
     "text": [
      "/Users/supathuynh/anaconda3/lib/python3.10/site-packages/sklearn/linear_model/_logistic.py:458: ConvergenceWarning: lbfgs failed to converge (status=1):\n",
      "STOP: TOTAL NO. of ITERATIONS REACHED LIMIT.\n",
      "\n",
      "Increase the number of iterations (max_iter) or scale the data as shown in:\n",
      "    https://scikit-learn.org/stable/modules/preprocessing.html\n",
      "Please also refer to the documentation for alternative solver options:\n",
      "    https://scikit-learn.org/stable/modules/linear_model.html#logistic-regression\n",
      "  n_iter_i = _check_optimize_result(\n"
     ]
    },
    {
     "data": {
      "text/plain": [
       "0.6047032474804032"
      ]
     },
     "execution_count": 9,
     "metadata": {},
     "output_type": "execute_result"
    }
   ],
   "source": [
    "#Logistische Regression\n",
    "\n",
    "X = df\n",
    "X_train, X_test, y_train, y_test = train_test_split(X, df.classification, test_size=testSize)\n",
    "\n",
    "# sklearn logisitic regression macht automatisch ein ONE-VS-ALL\n",
    "model = LogisticRegression( multi_class=\"auto\" )\n",
    "model.fit(X_train, y_train)\n",
    "\n",
    "model.score(X_test, y_test)"
   ]
  },
  {
   "cell_type": "code",
   "execution_count": 10,
   "metadata": {
    "datalore": {
     "hide_input_from_viewers": false,
     "hide_output_from_viewers": false,
     "node_id": "JgSM9hdi3HL6LdShgu8nwe",
     "report_properties": {
      "rowId": "Xno7jKYWnfAZHQrHYAFbzc"
     },
     "type": "CODE"
    }
   },
   "outputs": [
    {
     "data": {
      "text/plain": [
       "1.0"
      ]
     },
     "execution_count": 10,
     "metadata": {},
     "output_type": "execute_result"
    }
   ],
   "source": [
    "# ONE-VS-ONE\n",
    "\n",
    "from sklearn.multiclass import OneVsOneClassifier\n",
    "from warnings import simplefilter\n",
    "from sklearn.exceptions import ConvergenceWarning\n",
    "simplefilter(\"ignore\", category=ConvergenceWarning)\n",
    "\n",
    "X = df\n",
    "X_train, X_test, y_train, y_test = train_test_split(X, df.classification, test_size=testSize)\n",
    "\n",
    "model = OneVsOneClassifier(LogisticRegression( multi_class=\"auto\" ))\n",
    "model.fit(X_train, y_train)\n",
    "\n",
    "model.score(X_test, y_test)"
   ]
  },
  {
   "cell_type": "code",
   "execution_count": 11,
   "metadata": {
    "datalore": {
     "hide_input_from_viewers": false,
     "hide_output_from_viewers": false,
     "node_id": "FDENNhP9q4wn4wnvHzHwvB",
     "report_properties": {
      "rowId": "Xno7jKYWnfAZHQrHYAFbzc"
     },
     "type": "CODE"
    }
   },
   "outputs": [
    {
     "data": {
      "text/plain": [
       "0.9996267263904441"
      ]
     },
     "execution_count": 11,
     "metadata": {},
     "output_type": "execute_result"
    }
   ],
   "source": [
    "# Softmax mit setzen von multi_class (und solver)\n",
    "X = df\n",
    "X_train, X_test, y_train, y_test = train_test_split(X, df.classification, test_size=testSize)\n",
    "\n",
    "model = LogisticRegression( solver=\"newton-cg\", multi_class=\"multinomial\")\n",
    "model.fit(X_train, y_train)\n",
    "\n",
    "model.score(X_test, y_test)"
   ]
  },
  {
   "cell_type": "code",
   "execution_count": 12,
   "metadata": {
    "datalore": {
     "hide_input_from_viewers": false,
     "hide_output_from_viewers": false,
     "node_id": "ExGxcIhBK0Bgsxqzk37LDN",
     "report_properties": {
      "rowId": "Xno7jKYWnfAZHQrHYAFbzc"
     },
     "type": "CODE"
    }
   },
   "outputs": [
    {
     "data": {
      "text/plain": [
       "0.576793847532293"
      ]
     },
     "execution_count": 12,
     "metadata": {},
     "output_type": "execute_result"
    }
   ],
   "source": [
    "#Polynomial Logistic Regression\n",
    "\n",
    "from sklearn.linear_model import LogisticRegression\n",
    "from sklearn.preprocessing import StandardScaler\n",
    "from sklearn.pipeline import Pipeline\n",
    "\n",
    "X = df.iloc[:, 0:9].to_numpy()\n",
    "#'gender', 'height_cm', 'weight_kg', 'body fat_%', 'diastolic', 'systolic', 'gripForce', 'sit and bend forward_cm', 'sit-ups counts', 'broad jump_cm'\n",
    "\n",
    "y = df.classification\n",
    "\n",
    "X_train, X_test, y_train, y_test = train_test_split(X, y, test_size=testSize)\n",
    "\n",
    "logistic = LogisticRegression()\n",
    "scaler = StandardScaler()\n",
    "pipeline = Pipeline([('scaler', scaler),('logistic', logistic)])\n",
    "pipeline.fit(X_train, y_train)\n",
    "scores = pipeline.score(X, y)\n",
    "scores"
   ]
  },
  {
   "cell_type": "code",
   "execution_count": 13,
   "metadata": {
    "datalore": {
     "hide_input_from_viewers": false,
     "hide_output_from_viewers": false,
     "node_id": "ZbuF6i7QlGEt0ZaJKqacKC",
     "report_properties": {
      "rowId": "Xno7jKYWnfAZHQrHYAFbzc"
     },
     "type": "CODE"
    }
   },
   "outputs": [
    {
     "name": "stdout",
     "output_type": "stream",
     "text": [
      "1   1.0  /  0.5107886538182873\n",
      "3   0.7311572521953156  /  0.530052333552551\n",
      "5   0.6905224400125045  /  0.5499517907103766\n",
      "7   0.6723495562867894  /  0.5601056424375509\n",
      "9   0.6595277937106248  /  0.5656312908942962\n",
      "11   0.6497506966596884  /  0.5645098257777581\n",
      "13   0.6440636142998257  /  0.5710063480209111\n",
      "15   0.6400648876289997  /  0.572164959370437\n",
      "17   0.6362071231189508  /  0.5791093264075441\n",
      "19   0.6332578399277425  /  0.5757093453568601\n",
      "21   0.6293005289081128  /  0.5767942215732391\n",
      "23   0.6264258804763777  /  0.5770181021702541\n",
      "25   0.6234019325849298  /  0.5743294450079699\n",
      "27   0.6229207607223288  /  0.5756736760558671\n",
      "29   0.6216016431685338  /  0.5768667305741643\n",
      "31   0.6199092310218662  /  0.5784724621849676\n",
      "33   0.6176194916371723  /  0.5792194832410018\n",
      "35   0.6156034814076995  /  0.5763075028145307\n",
      "37   0.6136953725382271  /  0.5790319407443738\n",
      "39   0.6119241593916456  /  0.5775046258624725\n"
     ]
    }
   ],
   "source": [
    "#KNN\n",
    "\n",
    "from sklearn import datasets\n",
    "import matplotlib.pyplot as plt\n",
    "import pandas as pd\n",
    "import pandas as pd\n",
    "from sklearn.model_selection import RepeatedKFold\n",
    "from sklearn.model_selection import cross_validate\n",
    "\n",
    "# Target\n",
    "y = df.classification\n",
    "y\n",
    "\n",
    "X= df.iloc[:, 0:9].to_numpy()\n",
    "#'gender', 'height_cm', 'weight_kg', 'body fat_%', 'diastolic', 'systolic', 'gripForce', 'sit and bend forward_cm', 'sit-ups counts', 'broad jump_cm'\n",
    "X\n",
    "\n",
    "# score\n",
    "from sklearn.neighbors import KNeighborsClassifier\n",
    "from sklearn.model_selection import cross_val_score\n",
    "from sklearn.model_selection import KFold\n",
    "import numpy as np\n",
    "\n",
    "# create KNN Model with k=1, fit and visualize\n",
    "knn = KNeighborsClassifier(n_neighbors=3)\n",
    "knn.fit(X, y)\n",
    "\n",
    "for k in range(1, 40, 2):\n",
    " knn = KNeighborsClassifier(n_neighbors=k)\n",
    " kf_repeat = RepeatedKFold(n_splits=10, n_repeats=2 )\n",
    " knn.fit(X, y)\n",
    " scores = cross_validate(knn, X, y, cv = kf_repeat, return_train_score=True)\n",
    " print(k, \" \", np.mean( scores['train_score'] ), \" / \", np.mean(scores['test_score']) )"
   ]
  },
  {
   "cell_type": "code",
   "execution_count": 14,
   "metadata": {
    "datalore": {
     "hide_input_from_viewers": false,
     "hide_output_from_viewers": false,
     "node_id": "l10aue1mGsi5l2bIE2ap2j",
     "report_properties": {
      "rowId": "Xno7jKYWnfAZHQrHYAFbzc"
     },
     "type": "CODE"
    }
   },
   "outputs": [
    {
     "data": {
      "text/plain": [
       "(array([0.55820896, 0.55820896, 0.59552239, 0.58208955, 0.56567164,\n",
       "        0.59253731, 0.56119403, 0.59104478, 0.58059701, 0.56865672,\n",
       "        0.55671642, 0.58208955, 0.55970149, 0.57249626, 0.54857997,\n",
       "        0.58146487, 0.60687593, 0.57100149, 0.59342302, 0.57698057]),\n",
       " 0.5751530464270574)"
      ]
     },
     "execution_count": 14,
     "metadata": {},
     "output_type": "execute_result"
    }
   ],
   "source": [
    "#KNN Distance Weight\n",
    "\n",
    "from sklearn import datasets\n",
    "import matplotlib.pyplot as plt\n",
    "import pandas as pd\n",
    "import pandas as pd\n",
    "\n",
    "# Target\n",
    "y = df.classification\n",
    "y\n",
    "\n",
    "X= df.iloc[:, 0:9].to_numpy()\n",
    "#'gender', 'height_cm', 'weight_kg', 'body fat_%', 'diastolic', 'systolic', 'gripForce', 'sit and bend forward_cm', 'sit-ups counts', 'broad jump_cm'\n",
    "X\n",
    "\n",
    "# Skalierung\n",
    "from sklearn.preprocessing import StandardScaler\n",
    "scaler = StandardScaler()\n",
    "scaler.fit(X)\n",
    "X = scaler.transform(X)\n",
    "\n",
    "# visualise classification, k=7\n",
    "knn = KNeighborsClassifier(n_neighbors=7)\n",
    "knn.fit(X, y)\n",
    "\n",
    "from sklearn.model_selection import cross_val_score\n",
    "scores = cross_val_score(knn, X, y, cv = 20)\n",
    "scores, np.mean( scores )"
   ]
  },
  {
   "cell_type": "code",
   "execution_count": 15,
   "metadata": {
    "datalore": {
     "hide_input_from_viewers": false,
     "hide_output_from_viewers": false,
     "node_id": "2DiOD3ZiBJZO0SE1OuSmBi",
     "report_properties": {
      "rowId": "Xno7jKYWnfAZHQrHYAFbzc"
     },
     "type": "CODE"
    }
   },
   "outputs": [
    {
     "name": "stdout",
     "output_type": "stream",
     "text": [
      "0.5617767823814857\n"
     ]
    }
   ],
   "source": [
    "#Naiver Bayes\n",
    "\n",
    "from sklearn import datasets\n",
    "\n",
    "# Target\n",
    "y = df.classification\n",
    "y\n",
    "\n",
    "X= df.iloc[:, 0:9].to_numpy()\n",
    "#'gender', 'height_cm', 'weight_kg', 'body fat_%', 'diastolic', 'systolic', 'gripForce', 'sit and bend forward_cm', 'sit-ups counts', 'broad jump_cm'\n",
    "X\n",
    "\n",
    "# Train-Test-Split\n",
    "from sklearn.model_selection import train_test_split\n",
    "X_train, X_test, y_train, y_test = train_test_split(X, y, test_size=testSize, shuffle=True)\n",
    "\n",
    "# Naive Bayes\n",
    "from sklearn.naive_bayes import GaussianNB\n",
    "gaussNB = GaussianNB()\n",
    "gaussNB.fit(X_train, y_train)\n",
    "scores=gaussNB.score( X_test, y_test )\n",
    "print(scores)"
   ]
  },
  {
   "cell_type": "code",
   "execution_count": 16,
   "metadata": {
    "datalore": {
     "hide_input_from_viewers": false,
     "hide_output_from_viewers": false,
     "node_id": "g8laO4Ce5n0tDbHSUwF4Ub",
     "report_properties": {
      "rowId": "Xno7jKYWnfAZHQrHYAFbzc"
     },
     "type": "CODE"
    }
   },
   "outputs": [
    {
     "name": "stdout",
     "output_type": "stream",
     "text": [
      "0.5793206420306084\n"
     ]
    }
   ],
   "source": [
    "#SVM\n",
    "\n",
    "from sklearn.datasets import make_blobs\n",
    "from sklearn.model_selection import train_test_split\n",
    "import numpy as np\n",
    "\n",
    "# Target\n",
    "y = df.classification\n",
    "\n",
    "X= df.iloc[:, 0:9].to_numpy()\n",
    "#'gender', 'height_cm', 'weight_kg', 'body fat_%', 'diastolic', 'systolic', 'gripForce', 'sit and bend forward_cm', 'sit-ups counts', 'broad jump_cm'\n",
    "\n",
    "\n",
    "import seaborn as sns\n",
    "import matplotlib.pyplot as plt\n",
    "\n",
    "# Split\n",
    "X_train, X_test, y_train, y_test = train_test_split(X, y, test_size=testSize)\n",
    "\n",
    "# Bei Abständen: immer Skalieren\n",
    "from sklearn.preprocessing import StandardScaler\n",
    "scaler = StandardScaler()\n",
    "scaler.fit(X_train)\n",
    "X_train = scaler.fit_transform(X_train)\n",
    "X_test = scaler.transform(X_test)\n",
    "\n",
    "# ML Modell definieren und fit, SVC = Supported Vector Machine Classifier\n",
    "from sklearn.svm import SVC\n",
    "svm = SVC( kernel = \"linear\" )\n",
    "svm.fit( X_train, y_train )\n",
    "vars(svm)\n",
    "\n",
    "print(svm.score( X_test, y_test ))"
   ]
  },
  {
   "cell_type": "code",
   "execution_count": 17,
   "metadata": {
    "datalore": {
     "hide_input_from_viewers": false,
     "hide_output_from_viewers": false,
     "node_id": "289OiGMhv6OrRMRBqlEwX0",
     "report_properties": {
      "rowId": "Xno7jKYWnfAZHQrHYAFbzc"
     },
     "type": "CODE"
    }
   },
   "outputs": [
    {
     "name": "stdout",
     "output_type": "stream",
     "text": [
      "0.5823068309070548\n",
      "0.47592385218365063\n"
     ]
    }
   ],
   "source": [
    "#SVM mit Polynomialem Kernel\n",
    "\n",
    "from sklearn.datasets import make_circles\n",
    "from sklearn.model_selection import train_test_split\n",
    "import numpy as np\n",
    "\n",
    "# Target\n",
    "y = df.classification\n",
    "\n",
    "X= df.iloc[:, 0:9].to_numpy()\n",
    "#'gender', 'height_cm', 'weight_kg', 'body fat_%', 'diastolic', 'systolic', 'gripForce', 'sit and bend forward_cm', 'sit-ups counts', 'broad jump_cm'\n",
    "\n",
    "\n",
    "import seaborn as sns\n",
    "import matplotlib.pyplot as plt\n",
    "\n",
    "# Train-Test-Split\n",
    "X_train, X_test, y_train, y_test = train_test_split(X, y, test_size=testSize)\n",
    "\n",
    "# Skalieren\n",
    "from sklearn.preprocessing import StandardScaler\n",
    "scaler = StandardScaler()\n",
    "scaler.fit(X_train)\n",
    "X_train = scaler.fit_transform(X_train)\n",
    "X_test = scaler.transform(X_test)\n",
    "\n",
    "# Modell erstellen und fit\n",
    "from sklearn.svm import SVC\n",
    "svm = SVC( kernel = \"linear\" , C=1, probability=True)\n",
    "svm.fit( X_train, y_train )\n",
    "print(svm.score(X_test, y_test))\n",
    "\n",
    "# Modell erstellen und fit mit polynomialem Kernel\n",
    "from sklearn.svm import SVC\n",
    "svm = SVC( kernel = \"poly\", degree=2, C=1, probability=True)\n",
    "svm.fit( X_train, y_train )\n",
    "\n",
    "# Skore besser\n",
    "print(svm.score(X_test, y_test))\n"
   ]
  },
  {
   "cell_type": "code",
   "execution_count": 18,
   "metadata": {
    "datalore": {
     "hide_input_from_viewers": false,
     "hide_output_from_viewers": false,
     "node_id": "oVqU325BqNuxE5cHn8Vz7i",
     "report_properties": {
      "rowId": "Xno7jKYWnfAZHQrHYAFbzc"
     },
     "type": "CODE"
    }
   },
   "outputs": [
    {
     "name": "stdout",
     "output_type": "stream",
     "text": [
      "0.48973497573721536\n",
      "0.6334453154162001\n",
      "0.6356849570735349\n",
      "0.6368047779022024\n",
      "0.6356849570735349\n"
     ]
    }
   ],
   "source": [
    "#RFB Kernel\n",
    "\n",
    "from sklearn.datasets import make_circles\n",
    "from sklearn.model_selection import train_test_split\n",
    "import numpy as np\n",
    "\n",
    "# Target\n",
    "y = df.classification\n",
    "\n",
    "X= df.iloc[:, 0:9].to_numpy()\n",
    "#'gender', 'height_cm', 'weight_kg', 'body fat_%', 'diastolic', 'systolic', 'gripForce', 'sit and bend forward_cm', 'sit-ups counts', 'broad jump_cm'\n",
    "\n",
    "# Split\n",
    "X_train, X_test, y_train, y_test = train_test_split(X, y, test_size=testSize)\n",
    "\n",
    "# Bei Abständen: immer Skalieren\n",
    "from sklearn.preprocessing import StandardScaler\n",
    "scaler = StandardScaler()\n",
    "scaler.fit(X_train)\n",
    "X_train = scaler.fit_transform(X_train)\n",
    "X_test = scaler.transform(X_test)\n",
    "\n",
    "# Polynomialer Kernel SVM\n",
    "# degree = 2, 3, 4 ....\n",
    "svm = SVC( kernel = \"poly\", degree=2)\n",
    "svm.fit( X_train, y_train )\n",
    "print( svm.score( X_test, y_test ) )\n",
    "\n",
    "# Polynomial mit coef0, erste gute Variante\n",
    "# degree = 2, 3, 4 ...\n",
    "svm = SVC( kernel = \"poly\", degree=2, coef0=1)\n",
    "svm.fit( X_train, y_train )\n",
    "print( svm.score( X_test, y_test ) )\n",
    "\n",
    "# RBF Kernel: Score wird noch besser\n",
    "svm = SVC( kernel = \"rbf\" )\n",
    "svm.fit( X_train, y_train )\n",
    "print( svm.score(X_test,y_test) )\n",
    "\n",
    "# RBF Kernel SVM, C Variation bringt keine Besserung\n",
    "svm = SVC( kernel = \"rbf\", C=10 )\n",
    "svm.fit( X_train, y_train )\n",
    "print( svm.score(X_test,y_test) )\n",
    "\n",
    "# RBF Kernel SVM mit C=1 und proba\n",
    "svm = SVC( kernel = \"rbf\", probability=True, C=1)\n",
    "svm.fit( X_train, y_train )\n",
    "print( svm.score(X_test,y_test) )"
   ]
  },
  {
   "cell_type": "code",
   "execution_count": 19,
   "metadata": {
    "datalore": {
     "hide_input_from_viewers": false,
     "hide_output_from_viewers": false,
     "node_id": "Ofm8sGQXRuvNvQYcw1gicG",
     "report_properties": {
      "rowId": "Xno7jKYWnfAZHQrHYAFbzc"
     },
     "type": "CODE"
    }
   },
   "outputs": [
    {
     "data": {
      "text/plain": [
       "0.6080627099664053"
      ]
     },
     "execution_count": 19,
     "metadata": {},
     "output_type": "execute_result"
    }
   ],
   "source": [
    "#Tree\n",
    "\n",
    "import numpy as np\n",
    "import seaborn as sns\n",
    "import pandas as pd\n",
    "from sklearn.preprocessing import StandardScaler\n",
    "from sklearn.model_selection import train_test_split\n",
    "\n",
    "# Target\n",
    "y = df.classification\n",
    "\n",
    "X= df.iloc[:, 0:9].to_numpy()\n",
    "#'gender', 'height_cm', 'weight_kg', 'body fat_%', 'diastolic', 'systolic', 'gripForce', 'sit and bend forward_cm', 'sit-ups counts', 'broad jump_cm'\n",
    "\n",
    "# Split\n",
    "X_train, X_test, y_train, y_test = train_test_split(X, y, test_size=testSize)\n",
    "\n",
    "# Model erstellen\n",
    "from sklearn.tree import DecisionTreeClassifier\n",
    "\n",
    "model = DecisionTreeClassifier(criterion=\"entropy\", max_depth=10)\n",
    "model.fit(X_train,y_train)\n",
    "model.score(X_test,y_test)"
   ]
  },
  {
   "cell_type": "code",
   "execution_count": 20,
   "metadata": {
    "datalore": {
     "hide_input_from_viewers": false,
     "hide_output_from_viewers": false,
     "node_id": "ibMGxDBns84YYVKhA0OkFg",
     "report_properties": {
      "rowId": "Xno7jKYWnfAZHQrHYAFbzc"
     },
     "type": "CODE"
    }
   },
   "outputs": [
    {
     "data": {
      "text/plain": [
       "0.5627549472369096"
      ]
     },
     "execution_count": 20,
     "metadata": {},
     "output_type": "execute_result"
    }
   ],
   "source": [
    "import matplotlib.pyplot as plt\n",
    "import pandas as pd\n",
    "import seaborn as sns\n",
    "import numpy as np\n",
    "\n",
    "# Target\n",
    "y = df.classification\n",
    "\n",
    "X= df.iloc[:, 0:9].to_numpy()\n",
    "#'gender', 'height_cm', 'weight_kg', 'body fat_%', 'diastolic', 'systolic', 'gripForce', 'sit and bend forward_cm', 'sit-ups counts', 'broad jump_cm'\n",
    "\n",
    "# Split\n",
    "X_train, X_test, y_train, y_test = train_test_split(X, y, test_size=testSize)\n",
    "\n",
    "# Bagging mit KNN, n_estimator gibt an wie viele Modelle\n",
    "from sklearn.ensemble import BaggingClassifier\n",
    "from sklearn.neighbors import KNeighborsClassifier\n",
    "bagging = BaggingClassifier(KNeighborsClassifier(n_neighbors=5),n_estimators=100)\n",
    "# mit ganzem X,y normaerweise nicht erlaubt, nur zum in bagging schauen\n",
    "bagging.fit(X,y)\n",
    "# bagging besteht aus KNN\n",
    "vars(bagging)\n",
    "# Cross Validate Model\n",
    "from sklearn.model_selection import cross_validate\n",
    "score = cross_validate( bagging, X, y, cv=20 )\n",
    "score\n",
    "# Score\n",
    "np.mean( score['test_score'] )"
   ]
  },
  {
   "cell_type": "code",
   "execution_count": 21,
   "metadata": {
    "datalore": {
     "hide_input_from_viewers": false,
     "hide_output_from_viewers": false,
     "node_id": "AP4eCfnzCVNHNkSht2TJVD",
     "report_properties": {
      "rowId": "Xno7jKYWnfAZHQrHYAFbzc"
     },
     "type": "CODE"
    }
   },
   "outputs": [
    {
     "data": {
      "text/plain": [
       "0.5583527430114004"
      ]
     },
     "execution_count": 21,
     "metadata": {},
     "output_type": "execute_result"
    }
   ],
   "source": [
    "#Boosting\n",
    "# import diabetes data, Daten anschauen\n",
    "import matplotlib.pyplot as plt\n",
    "import pandas as pd\n",
    "import seaborn as sns\n",
    "import numpy as np\n",
    "import matplotlib.pyplot as plt\n",
    "\n",
    "# Target\n",
    "y = df.classification\n",
    "\n",
    "X= df.iloc[:, 0:9].to_numpy()\n",
    "#'gender', 'height_cm', 'weight_kg', 'body fat_%', 'diastolic', 'systolic', 'gripForce', 'sit and bend forward_cm', 'sit-ups counts', 'broad jump_cm'\n",
    "\n",
    "# Split\n",
    "X_train, X_test, y_train, y_test = train_test_split(X, y, test_size=testSize)\n",
    "\n",
    "# AdaBoostClassifier mit 50 Decision Trees (dies ist auch das default Modell)\n",
    "# learning_rate kontrolliert die loss funktion zum nächsten Modell, entspricht dem Gewicht\n",
    "from sklearn.ensemble import AdaBoostClassifier\n",
    "from sklearn.tree import DecisionTreeClassifier\n",
    "ada = AdaBoostClassifier(base_estimator=DecisionTreeClassifier(), n_estimators=50, learning_rate=2)\n",
    "ada.fit(X,y)\n",
    "# Cross Validate Model (nicht nur ein Split)\n",
    "from sklearn.model_selection import cross_validate\n",
    "score = cross_validate( ada, X, y, cv=20 )\n",
    "score\n",
    "# durchschnittlicher Score\n",
    "np.mean( score['test_score'] )"
   ]
  },
  {
   "cell_type": "code",
   "execution_count": 22,
   "metadata": {
    "datalore": {
     "hide_input_from_viewers": false,
     "hide_output_from_viewers": false,
     "node_id": "KcOyIOVp3RrS9myG27asQY",
     "report_properties": {
      "rowId": "Xno7jKYWnfAZHQrHYAFbzc"
     },
     "type": "CODE"
    }
   },
   "outputs": [
    {
     "name": "stdout",
     "output_type": "stream",
     "text": [
      "{'learning_rate': 0.5, 'n_estimators': 20} : 0.5577547383307394\n",
      "{'learning_rate': 0.5, 'n_estimators': 50} : 0.5570829573417121\n",
      "{'learning_rate': 0.5, 'n_estimators': 100} : 0.556858435635113\n",
      "{'learning_rate': 0.5, 'n_estimators': 500} : 0.5565593149606893\n",
      "{'learning_rate': 1.0, 'n_estimators': 20} : 0.5559622165706164\n",
      "{'learning_rate': 1.0, 'n_estimators': 50} : 0.5567842269458942\n",
      "{'learning_rate': 1.0, 'n_estimators': 100} : 0.5550663599076824\n",
      "{'learning_rate': 1.0, 'n_estimators': 500} : 0.5566342763300764\n",
      "{'learning_rate': 2.0, 'n_estimators': 20} : 0.5554396056401949\n",
      "{'learning_rate': 2.0, 'n_estimators': 50} : 0.5527518126350468\n",
      "{'learning_rate': 2.0, 'n_estimators': 100} : 0.5524536397800948\n",
      "{'learning_rate': 2.0, 'n_estimators': 500} : 0.5569334806356301\n",
      "{'learning_rate': 5.0, 'n_estimators': 20} : 0.5569326722013749\n",
      "{'learning_rate': 5.0, 'n_estimators': 50} : 0.555812907126794\n",
      "{'learning_rate': 5.0, 'n_estimators': 100} : 0.5581273428912563\n",
      "{'learning_rate': 5.0, 'n_estimators': 500} : 0.5578288076347416\n"
     ]
    }
   ],
   "source": [
    "#Boosting\n",
    "# import diabetes data, Daten anschauen\n",
    "import matplotlib.pyplot as plt\n",
    "import pandas as pd\n",
    "import seaborn as sns\n",
    "import numpy as np\n",
    "import matplotlib.pyplot as plt\n",
    "\n",
    "# Target\n",
    "y = df.classification\n",
    "\n",
    "X= df.iloc[:, 0:9].to_numpy()\n",
    "#'gender', 'height_cm', 'weight_kg', 'body fat_%', 'diastolic', 'systolic', 'gripForce', 'sit and bend forward_cm', 'sit-ups counts', 'broad jump_cm'\n",
    "\n",
    "# Split\n",
    "X_train, X_test, y_train, y_test = train_test_split(X, y, test_size=testSize)\n",
    "\n",
    "# AdaBoostClassifier\n",
    "from sklearn.ensemble import AdaBoostClassifier\n",
    "from sklearn.tree import DecisionTreeClassifier\n",
    "from sklearn.model_selection import GridSearchCV\n",
    "# Grid für Hyperparameter\n",
    "hyperparameter = dict()\n",
    "hyperparameter['n_estimators'] = [20, 50, 100, 500]\n",
    "hyperparameter['learning_rate'] = [0.5, 1.0, 2.0, 5.0]\n",
    "ada = AdaBoostClassifier(base_estimator=DecisionTreeClassifier())\n",
    "# GridSearchCV (hier zu wenig CV, Wartezeit)\n",
    "grid = GridSearchCV(ada, param_grid=hyperparameter, cv=5)\n",
    "grid.fit(X,y)\n",
    "grid.best_estimator_.get_params()\n",
    "grid.best_params_\n",
    "# bester Score\n",
    "grid.best_score_\n",
    "vars(grid)\n",
    "# Das Grid hat alle Messungen, auslesbar\n",
    "mean_test_score = grid.cv_results_['mean_test_score']\n",
    "mean_test_score\n",
    "params = grid.cv_results_['params']\n",
    "params\n",
    "# Alle Kombinationen von Parametern mit dem Score\n",
    "for p, t in zip(params, mean_test_score):\n",
    " print(p, \":\", t)"
   ]
  },
  {
   "cell_type": "code",
   "execution_count": 23,
   "metadata": {
    "datalore": {
     "hide_input_from_viewers": false,
     "hide_output_from_viewers": false,
     "node_id": "Y2REiQlxLYRhs4d7gtquNa",
     "report_properties": {
      "rowId": "Xno7jKYWnfAZHQrHYAFbzc"
     },
     "type": "CODE"
    }
   },
   "outputs": [
    {
     "name": "stdout",
     "output_type": "stream",
     "text": [
      "{'fit_time': array([2.67988586, 2.85335612, 2.75968194, 2.71730423, 2.781214  ,\n",
      "       2.64436603, 2.67965484, 2.69623113, 2.98542905, 2.65389681]), 'score_time': array([0.00680804, 0.0055778 , 0.00433421, 0.00496411, 0.00427008,\n",
      "       0.00431108, 0.00500417, 0.00998497, 0.00529814, 0.00432301]), 'test_score': array([0.6119403 , 0.65074627, 0.62313433, 0.63181479, 0.65646004,\n",
      "       0.63853622, 0.63629574, 0.61389096, 0.63704257, 0.64002987])}\n",
      "0.6413804019484355\n",
      "0.6366014401480276\n"
     ]
    },
    {
     "data": {
      "text/plain": [
       "array([0.00986349, 0.04719621, 0.09527335, 0.09885901, 0.01697977,\n",
       "       0.02374419, 0.0714622 , 0.46806057, 0.16856119])"
      ]
     },
     "execution_count": 23,
     "metadata": {},
     "output_type": "execute_result"
    }
   ],
   "source": [
    "#Gradient Tree Boosting\n",
    "import matplotlib.pyplot as plt\n",
    "import pandas as pd\n",
    "import seaborn as sns\n",
    "import numpy as np\n",
    "import matplotlib.pyplot as plt\n",
    "\n",
    "# Target\n",
    "y = df.classification\n",
    "\n",
    "X= df.iloc[:, 0:9].to_numpy()\n",
    "#'gender', 'height_cm', 'weight_kg', 'body fat_%', 'diastolic', 'systolic', 'gripForce', 'sit and bend forward_cm', 'sit-ups counts', 'broad jump_cm'\n",
    "\n",
    "# Split\n",
    "X_train, X_test, y_train, y_test = train_test_split(X, y, test_size=testSize)\n",
    "\n",
    "# Model GradientBoostingClassifier Tree def, fit\n",
    "from sklearn.ensemble import GradientBoostingClassifier\n",
    "model = GradientBoostingClassifier( n_estimators=50)\n",
    "model\n",
    "# Fit\n",
    "model.fit(X,y)\n",
    "# Cross Validate Model (nicht nur ein Split)\n",
    "from sklearn.model_selection import cross_validate\n",
    "score = cross_validate( model, X, y, cv=10 )\n",
    "print(score)\n",
    "# durchschnittlicher Score\n",
    "np.mean( score['test_score'] )\n",
    "# Dasselbe, aber jetzt mehr Bäume -> Score\n",
    "model = GradientBoostingClassifier( n_estimators=100)\n",
    "score = cross_validate( model, X, y, cv=10 )\n",
    "print(np.mean( score['test_score'] ))\n",
    "# Noch grösseres Ensemble, noch mehr Bäume -> Score\n",
    "model = GradientBoostingClassifier( n_estimators=1000)\n",
    "score = cross_validate( model, X, y, cv=10 )\n",
    "print(np.mean( score['test_score'] ))\n",
    "# Features importance für Features Reduction\n",
    "# Fit hier nur für die feature_importances_\n",
    "model.fit( X,y )\n",
    "model.feature_importances_"
   ]
  }
 ],
 "metadata": {
  "datalore": {
   "base_environment": "default",
   "computation_mode": "REACTIVE",
   "package_manager": "pip",
   "packages": [],
   "report_row_ids": [
    "Xno7jKYWnfAZHQrHYAFbzc"
   ],
   "version": 3
  },
  "kernelspec": {
   "display_name": "base",
   "language": "python",
   "name": "python3"
  },
  "language_info": {
   "codemirror_mode": {
    "name": "ipython",
    "version": 3
   },
   "file_extension": ".py",
   "mimetype": "text/x-python",
   "name": "python",
   "nbconvert_exporter": "python",
   "pygments_lexer": "ipython3",
   "version": "3.10.9"
  }
 },
 "nbformat": 4,
 "nbformat_minor": 4
}
